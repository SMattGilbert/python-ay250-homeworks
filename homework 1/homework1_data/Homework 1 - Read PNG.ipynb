{
 "cells": [
  {
   "cell_type": "code",
   "execution_count": null,
   "metadata": {
    "collapsed": false
   },
   "outputs": [],
   "source": [
    "%matplotlib inline\n",
    "import matplotlib.pyplot as plt\n",
    "import matplotlib.image as mpimg\n",
    "import scipy.ndimage\n",
    "import numpy as np\n",
    "from scipy.misc import imread, imsave, imresize\n",
    "from scipy import signal"
   ]
  },
  {
   "cell_type": "code",
   "execution_count": null,
   "metadata": {
    "collapsed": true
   },
   "outputs": [],
   "source": [
    "img1=mpimg.imread('im2-0.png')\n",
    "img2=mpimg.imread('im2-1.png')"
   ]
  },
  {
   "cell_type": "code",
   "execution_count": null,
   "metadata": {
    "collapsed": false
   },
   "outputs": [],
   "source": [
    "imgplot = plt.imshow(img1)\n",
    "#imgplot = plt.imshow(img2)"
   ]
  },
  {
   "cell_type": "code",
   "execution_count": null,
   "metadata": {
    "collapsed": false
   },
   "outputs": [],
   "source": [
    "x=imresize(img1, (864, 864))\n",
    "y=imresize(img2, (864, 864))\n",
    "y.shape\n",
    "x= x[150:700,:]\n",
    "y= y[150:700,:]\n",
    "y.shape"
   ]
  },
  {
   "cell_type": "code",
   "execution_count": null,
   "metadata": {
    "collapsed": false
   },
   "outputs": [],
   "source": [
    "imgplot=plt.imshow(im1_gray-im2_gray)"
   ]
  },
  {
   "cell_type": "code",
   "execution_count": null,
   "metadata": {
    "collapsed": false
   },
   "outputs": [],
   "source": [
    "im1_gray = np.sum(x.astype('float'), axis=2)\n",
    "im2_gray = np.sum(y.astype('float'), axis=2)\n",
    "\n",
    "# get rid of the averages, otherwise the results are not good\n",
    "im1_gray -= np.mean(im1_gray)\n",
    "im2_gray -= np.mean(im2_gray)\n",
    "\n",
    "# calculate the correlation image; note the flipping of onw of the images\n",
    "z=scipy.signal.fftconvolve(im1_gray, im2_gray[::-1,::-1], mode='same')\n",
    "print(np.unravel_index(np.argmax(z), z.shape))"
   ]
  },
  {
   "cell_type": "code",
   "execution_count": null,
   "metadata": {
    "collapsed": false
   },
   "outputs": [],
   "source": [
    "def offset(a,b):\n",
    "    img1=mpimg.imread(a)\n",
    "    img2=mpimg.imread(b)\n",
    "    #resize images\n",
    "    x=imresize(img1, (864, 864))\n",
    "    y=imresize(img2, (864, 864))\n",
    "    #crop images\n",
    "    x= x[150:700,:]\n",
    "    y= y[150:700,:]\n",
    "    #convert to grayscale\n",
    "    im1_gray = np.sum(x.astype('float'), axis=2)\n",
    "    im2_gray = np.sum(y.astype('float'), axis=2)\n",
    "    #flatten\n",
    "    im1_gray -= np.mean(im1_gray)\n",
    "    im2_gray -= np.mean(im2_gray)\n",
    "    \n",
    "    #convolve\n",
    "    z=scipy.signal.fftconvolve(im1_gray, im2_gray[::-1,::-1], mode='same')\n",
    "    \n",
    "    return np.unravel_index(np.argmax(z), z.shape)"
   ]
  },
  {
   "cell_type": "code",
   "execution_count": null,
   "metadata": {
    "collapsed": false,
    "scrolled": true
   },
   "outputs": [],
   "source": [
    "%matplotlib inline\n",
    "import matplotlib.pyplot as plt\n",
    "import matplotlib.image as mpimg\n",
    "import scipy.ndimage\n",
    "import numpy as np\n",
    "from scipy.misc import imread, imsave, imresize\n",
    "from scipy import signal\n",
    "\n",
    "def offset(a,b):\n",
    "    img1=mpimg.imread(a)\n",
    "    img2=mpimg.imread(b)\n",
    "    #resize images\n",
    "    x=imresize(img1, (864, 864))\n",
    "    y=imresize(img2, (864, 864))\n",
    "    #crop images\n",
    "    x= x[200:664,:]\n",
    "    y= y[200:664,:]\n",
    "    #convert to grayscale\n",
    "    im1_gray = np.sum(x.astype('float'), axis=2)\n",
    "    im2_gray = np.sum(y.astype('float'), axis=2)\n",
    "    #flatten\n",
    "    im1_gray -= np.mean(im1_gray)\n",
    "    im2_gray -= np.mean(im2_gray)\n",
    "    \n",
    "    #convolve\n",
    "    z=scipy.signal.fftconvolve(im1_gray, im2_gray[::-1,::-1], mode='same')\n",
    "    \n",
    "    return np.argmax(z)\n",
    "\n",
    "def shifted(image,offsets):\n",
    "    img = mpimg.imread(image)\n",
    "    img = imresize(img, (864, 864))\n",
    "    #convert to grayscale\n",
    "    img = np.sum(img.astype('float'), axis=2)\n",
    "    #flatten\n",
    "    img -= np.mean(img)\n",
    "    #shift\n",
    "    img = scipy.ndimage.interpolation.shift(img,-1*offsets)\n",
    "    return img\n",
    "    \n",
    "    \n",
    "\n",
    "##offsets = np.empty((99,2))\n",
    "##offsets[0]=(0,0)\n",
    "##for i in range(1,99):\n",
    "##   offsets[i] = np.array((432,432))-offset('homework1_data/data/im2-'+str(1)+'.png','homework1_data/data/im2-'+str(i+1)+'.png')\n",
    "\n",
    "total =mpimg.imread('homework1_data/data/im2-1.png')\n",
    "total = total*0\n",
    "total = imresize(total, (864, 864))\n",
    "total = np.sum(total.astype('float'), axis=2)\n",
    "total -= np.mean(total)\n",
    "\n",
    "for i in range(1,99):\n",
    "    total = total + shifted('homework1_data/data/im2-'+str(i+1)+'.png',offsets[i])\n",
    "   \n",
    "imgplot=plt.imshow(total)"
   ]
  },
  {
   "cell_type": "code",
   "execution_count": null,
   "metadata": {
    "collapsed": false
   },
   "outputs": [],
   "source": [
    "imgplot=plt.imshow(total,clim=(3500,5000))"
   ]
  },
  {
   "cell_type": "code",
   "execution_count": null,
   "metadata": {
    "collapsed": false
   },
   "outputs": [],
   "source": [
    "import os\n",
    "cwd = os.getcwd()"
   ]
  },
  {
   "cell_type": "code",
   "execution_count": null,
   "metadata": {
    "collapsed": false
   },
   "outputs": [],
   "source": [
    "cwd"
   ]
  },
  {
   "cell_type": "code",
   "execution_count": null,
   "metadata": {
    "collapsed": false
   },
   "outputs": [],
   "source": [
    "img1=mpimg.imread('im2-0.png')\n",
    "img1 = imresize(img1, (864, 864))\n",
    "img1 = np.sum(img1.astype('float'), axis=2)\n",
    "imgplot=plt.imshow(total[250:350,350:450],clim=(0,400))\n",
    "plt.colorbar()"
   ]
  },
  {
   "cell_type": "code",
   "execution_count": null,
   "metadata": {
    "collapsed": false
   },
   "outputs": [],
   "source": [
    "print(offsets)"
   ]
  },
  {
   "cell_type": "code",
   "execution_count": null,
   "metadata": {
    "collapsed": false
   },
   "outputs": [],
   "source": []
  },
  {
   "cell_type": "code",
   "execution_count": null,
   "metadata": {
    "collapsed": false
   },
   "outputs": [],
   "source": []
  },
  {
   "cell_type": "code",
   "execution_count": null,
   "metadata": {
    "collapsed": false
   },
   "outputs": [],
   "source": []
  },
  {
   "cell_type": "code",
   "execution_count": null,
   "metadata": {
    "collapsed": true
   },
   "outputs": [],
   "source": []
  }
 ],
 "metadata": {
  "anaconda-cloud": {},
  "kernelspec": {
   "display_name": "Python [Root]",
   "language": "python",
   "name": "Python [Root]"
  },
  "language_info": {
   "codemirror_mode": {
    "name": "ipython",
    "version": 3
   },
   "file_extension": ".py",
   "mimetype": "text/x-python",
   "name": "python",
   "nbconvert_exporter": "python",
   "pygments_lexer": "ipython3",
   "version": "3.5.2"
  }
 },
 "nbformat": 4,
 "nbformat_minor": 0
}
